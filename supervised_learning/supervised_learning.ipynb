{
 "cells": [
  {
   "cell_type": "code",
   "execution_count": 1,
   "metadata": {},
   "outputs": [],
   "source": [
    "\"\"\"\n",
    "ref: \n",
    "https://m.blog.naver.com/gdpresent/221717318894\n",
    "\n",
    "\"\"\"\n",
    "\n",
    "import os\n",
    "import pandas as pd\n",
    "import numpy as np\n",
    "import matplotlib.pyplot as plt\n",
    "from IPython.display import Image\n",
    "%matplotlib inline\n",
    "import matplotlib.cm as cm\n",
    "import seaborn as sns\n",
    "sns.set_style(\"dark\")\n",
    "\n",
    "from sklearn.datasets import load_breast_cancer\n",
    "from sklearn.model_selection import train_test_split, GridSearchCV\n",
    "from sklearn.metrics import roc_auc_score, accuracy_score, f1_score\n",
    "from sklearn.metrics import classification_report\n",
    "from sklearn.preprocessing import StandardScaler\n",
    "\n",
    "# Models\n",
    "from sklearn import tree\n",
    "from sklearn.neural_network import MLPClassifier\n",
    "from sklearn.ensemble import AdaBoostClassifier, GradientBoostingClassifier\n",
    "from sklearn import svm\n",
    "from sklearn.neighbors import KNeighborsClassifier\n",
    "\n",
    "from utils import learning_curve_plotter"
   ]
  },
  {
   "cell_type": "code",
   "execution_count": 2,
   "metadata": {},
   "outputs": [],
   "source": [
    "# base param\n",
    "seed = 712"
   ]
  },
  {
   "cell_type": "code",
   "execution_count": 3,
   "metadata": {},
   "outputs": [],
   "source": [
    "cancer = load_breast_cancer()"
   ]
  },
  {
   "cell_type": "markdown",
   "metadata": {},
   "source": [
    "# EDA\n",
    "\n",
    "- 샘플 사이즈\n",
    "- 다양한 피쳐의 크기\n",
    "- 클래스 비율\n",
    "- 디스크릿, 컨티뉴어스 피쳐"
   ]
  },
  {
   "cell_type": "code",
   "execution_count": 4,
   "metadata": {},
   "outputs": [
    {
     "name": "stdout",
     "output_type": "stream",
     "text": [
      "569\n",
      "{0: 212, 1: 357}\n"
     ]
    }
   ],
   "source": [
    "# cancer.data, cancer.target\n",
    "\n",
    "# sample size\n",
    "print(len(cancer.data))\n",
    "\n",
    "# Class label ratio\n",
    "unique, counts = np.unique(cancer.target, return_counts=True)\n",
    "data_ratio = dict(zip(unique, counts))\n",
    "print(data_ratio)"
   ]
  },
  {
   "cell_type": "code",
   "execution_count": 5,
   "metadata": {
    "collapsed": true
   },
   "outputs": [
    {
     "name": "stdout",
     "output_type": "stream",
     "text": [
      "Range after normalize feature 0's 6.981 ~ 28.11 to -2.023709111635772 ~ 3.991146816473824\n",
      "Range after normalize feature 1's 10.38 ~ 39.28 to -2.1202942205717465 ~ 4.697162866739091\n",
      "Range after normalize feature 2's 43.79 ~ 188.5 to -1.9796847236835322 ~ 3.994892215222493\n",
      "Range after normalize feature 3's 143.5 ~ 2501.0 to -1.4454253671305324 ~ 5.260337816844935\n",
      "Range after normalize feature 4's 0.05263 ~ 0.1634 to -3.0854752127382876 ~ 4.721618469874036\n",
      "Range after normalize feature 5's 0.01938 ~ 0.3454 to -1.6525873306558152 ~ 4.6818014778519546\n",
      "Range after normalize feature 6's 0.0 ~ 0.4108 to -1.1428129281297774 ~ 4.162608769068677\n",
      "Range after normalize feature 7's 0.0 ~ 0.1913 to -1.2755093081043052 ~ 3.729200191616107\n",
      "Range after normalize feature 8's 0.1167 ~ 0.2906 to -2.4703038289856485 ~ 4.166039770914361\n",
      "Range after normalize feature 9's 0.04996 ~ 0.09744 to -1.7971653805580423 ~ 4.824523565809539\n",
      "Range after normalize feature 10's 0.1115 ~ 2.873 to -1.0561779165370946 ~ 8.867488377097805\n",
      "Range after normalize feature 11's 0.3621 ~ 3.647 to -1.6502042999516948 ~ 4.608404883816437\n",
      "Range after normalize feature 12's 0.7714 ~ 21.98 to -1.0360920409488135 ~ 9.403148257968486\n",
      "Range after normalize feature 13's 6.802 ~ 542.2 to -0.7165487583779536 ~ 10.738630050351334\n",
      "Range after normalize feature 14's 0.002667 ~ 0.03113 to -1.451816911579438 ~ 7.874032624459124\n",
      "Range after normalize feature 15's 0.002252 ~ 0.1354 to -1.328659141161586 ~ 6.301555641624012\n",
      "Range after normalize feature 16's 0.0 ~ 0.396 to -1.10370320396797 ~ 12.615420013534635\n",
      "Range after normalize feature 17's 0.0 ~ 0.05279 to -1.9208262617632446 ~ 6.63375466768519\n",
      "Range after normalize feature 18's 0.007882 ~ 0.07895 to -1.5282701654892894 ~ 6.89303462841095\n",
      "Range after normalize feature 19's 0.0008948 ~ 0.02984 to -1.0455554209900848 ~ 9.287108180125061\n",
      "Range after normalize feature 20's 7.93 ~ 36.04 to -1.7202154448540525 ~ 4.107029062240371\n",
      "Range after normalize feature 21's 12.49 ~ 49.54 to -2.208764630414457 ~ 3.9342945828819844\n",
      "Range after normalize feature 22's 50.41 ~ 251.2 to -1.6907847670259482 ~ 4.301950602790654\n",
      "Range after normalize feature 23's 185.2 ~ 4254.0 to -1.208912624902807 ~ 5.901004781510818\n",
      "Range after normalize feature 24's 0.08125 ~ 0.2226 to -2.2043567018066152 ~ 3.8729767256556755\n",
      "Range after normalize feature 25's 0.03432 ~ 0.9379 to -1.4254905559130002 ~ 4.456197172215017\n",
      "Range after normalize feature 26's 0.0 ~ 1.17 to -1.3391837002240385 ~ 4.426692661738643\n",
      "Range after normalize feature 27's 0.0 ~ 0.2903 to -1.7468286540777378 ~ 2.6913842035525515\n",
      "Range after normalize feature 28's 0.1565 ~ 0.6638 to -2.156775376771209 ~ 6.024290457750476\n",
      "Range after normalize feature 29's 0.05504 ~ 0.173 to -1.608214132215314 ~ 4.992024844715133\n"
     ]
    }
   ],
   "source": [
    "X_train_origin, X_test_origin, y_train, y_test = train_test_split(cancer.data, cancer.target, test_size=0.2, random_state=712)\n",
    "\n",
    "# data normalize 진행\n",
    "sc = StandardScaler()\n",
    "sc.fit(X_train_origin)\n",
    "\n",
    "X_train = sc.transform(X_train_origin)\n",
    "X_test = sc.transform(X_test_origin)\n",
    "\n",
    "\n",
    "for i in range(X_train.shape[1]):\n",
    "    print(f\"Range after normalize feature {i}'s {min(X_train_origin[:, i])} ~ {max(X_train_origin[:, i])} to {min(X_train[:, i])} ~ {max(X_train[:, i])}\")"
   ]
  },
  {
   "cell_type": "code",
   "execution_count": 6,
   "metadata": {},
   "outputs": [],
   "source": [
    "def score(X_train, y_train, X_test, y_test, model):\n",
    "    train_score = model.score(X_train, y_train)\n",
    "    test_score = model.score(X_test, y_test)\n",
    "    print(f\"score - train: {train_score}, test: {test_score}\")\n",
    "\n",
    "def metrics(true_label, predict_label):\n",
    "    roc = roc_auc_score(true_label, predict_label)\n",
    "    f1 = f1_score(true_label, predict_label)\n",
    "    print(f\"test metrics - roc: {roc}, f1: {f1}\")"
   ]
  },
  {
   "cell_type": "markdown",
   "metadata": {},
   "source": [
    "# Decision Tree\n",
    "\n",
    "- pruning 반드시 포함 - dept에 대한 조정 필요\n",
    "- information gain (ID3, GINI)등을 사용할 필요는 없지만, 설명해야함\n",
    "- DT의 dept에 따라 복잡도 명시"
   ]
  },
  {
   "cell_type": "code",
   "execution_count": 7,
   "metadata": {},
   "outputs": [
    {
     "data": {
      "text/plain": [
       "DecisionTreeClassifier(random_state=712)"
      ]
     },
     "execution_count": 7,
     "metadata": {},
     "output_type": "execute_result"
    }
   ],
   "source": [
    "tree_clf = tree.DecisionTreeClassifier(random_state=seed)\n",
    "tree_clf.fit(X_train, y_train)"
   ]
  },
  {
   "cell_type": "code",
   "execution_count": 8,
   "metadata": {
    "scrolled": true
   },
   "outputs": [
    {
     "name": "stdout",
     "output_type": "stream",
     "text": [
      "score - train: 1.0, test: 0.9035087719298246\n",
      "test metrics - roc: 0.908445945945946, f1: 0.9230769230769231\n"
     ]
    }
   ],
   "source": [
    "score(X_train, y_train, X_test, y_test, tree_clf)\n",
    "metrics(y_test, tree_clf.predict(X_test))"
   ]
  },
  {
   "cell_type": "code",
   "execution_count": 9,
   "metadata": {
    "scrolled": true
   },
   "outputs": [
    {
     "data": {
      "text/plain": [
       "'              precision    recall  f1-score   support\\n\\n           0       0.82      0.93      0.87        40\\n           1       0.96      0.89      0.92        74\\n\\n    accuracy                           0.90       114\\n   macro avg       0.89      0.91      0.90       114\\nweighted avg       0.91      0.90      0.90       114\\n'"
      ]
     },
     "execution_count": 9,
     "metadata": {},
     "output_type": "execute_result"
    }
   ],
   "source": [
    "# classification report\n",
    "classification_report(y_test, tree_clf.predict(X_test))"
   ]
  },
  {
   "cell_type": "code",
   "execution_count": 10,
   "metadata": {},
   "outputs": [
    {
     "name": "stdout",
     "output_type": "stream",
     "text": [
      "Fitting 5 folds for each of 18 candidates, totalling 90 fits\n"
     ]
    },
    {
     "name": "stderr",
     "output_type": "stream",
     "text": [
      "[Parallel(n_jobs=-1)]: Using backend LokyBackend with 12 concurrent workers.\n",
      "[Parallel(n_jobs=-1)]: Done   8 tasks      | elapsed:    1.2s\n",
      "[Parallel(n_jobs=-1)]: Done  90 out of  90 | elapsed:    1.3s finished\n"
     ]
    },
    {
     "data": {
      "text/plain": [
       "GridSearchCV(estimator=DecisionTreeClassifier(random_state=712), n_jobs=-1,\n",
       "             param_grid={'criterion': ['gini', 'entropy'],\n",
       "                         'max_depth': [2, 3, 4, 5, 6, 7, 8, 9, 10]},\n",
       "             return_train_score=True, scoring='f1_micro', verbose=3)"
      ]
     },
     "execution_count": 10,
     "metadata": {},
     "output_type": "execute_result"
    }
   ],
   "source": [
    "# Tree Pre-Pruning 작업 진행\n",
    "# tree.export_text(tree_clf)\n",
    "\n",
    "\n",
    "params = {\n",
    "    'max_depth': [2,3,4,5,6,7,8,9,10],\n",
    "    'criterion': ['gini', 'entropy']\n",
    "}\n",
    "\n",
    "\"\"\"\n",
    "that macro weighs each class equally whereas micro weights each sample equally. If the distribution of classes is symmetrical (i.e. you have an equal number of samples for each class), then macro and micro will result in the same score.\n",
    "https://datascience.stackexchange.com/questions/45974/micro-f1-and-macro-f1-are-equal-in-binary-classification-and-i-dont-know-why\n",
    "\"\"\"\n",
    "\n",
    "tree_grid_search = GridSearchCV(estimator=tree_clf, param_grid=params,\n",
    "                           scoring='f1_micro', return_train_score=True,\n",
    "                           verbose=3, n_jobs=-1)\n",
    "tree_grid_search.fit(X_train, y_train)\n",
    "\n",
    "# score(X_train, y_train, X_test, y_test, grid_search.best_estimator_)\n",
    "# metrics(y_test, grid_search.best_estimator_.predict(X_test))"
   ]
  },
  {
   "cell_type": "code",
   "execution_count": null,
   "metadata": {},
   "outputs": [],
   "source": []
  },
  {
   "cell_type": "code",
   "execution_count": 12,
   "metadata": {},
   "outputs": [
    {
     "data": {
      "image/png": "[encoded data removed]",
      "text/plain": [
       "<Figure size 432x288 with 1 Axes>"
      ]
     },
     "metadata": {},
     "output_type": "display_data"
    }
   ],
   "source": [
    "# grid_search.best_score_\n",
    "\n",
    "tree_grid_search.cv_results_.keys()\n",
    "tree_grid_search_result_df = pd.DataFrame(tree_grid_search.cv_results_)\n",
    "tree_grid_search_result_df.sort_values(by=\"rank_test_score\")\n",
    "\n",
    "gini_df = tree_grid_search_result_df[tree_grid_search_result_df['param_criterion'].str.contains('gini')]\n",
    "entropy_df = tree_grid_search_result_df[tree_grid_search_result_df['param_criterion'].str.contains('entropy')]\n",
    "\n",
    "x_range=params['max_depth']\n",
    "x_label=\"max_depth\"\n",
    "y_label=\"f1_micro\"\n",
    "title=\"Breast Cancer Curve\"\n",
    "\n",
    "gini_mean_train = gini_df[\"mean_train_score\"]\n",
    "gini_mean_test = gini_df[\"mean_test_score\"]\n",
    "entropy_mean_train = entropy_df[\"mean_train_score\"]\n",
    "entropy_mean_test = entropy_df[\"mean_test_score\"]\n",
    "\n",
    "plt.grid()\n",
    "plt.xlabel(x_label)\n",
    "plt.ylabel(y_label)\n",
    "plt.title(title)\n",
    "\n",
    "plt.plot(x_range, gini_mean_train, marker='o', label='gini: train', color=f\"C{1}\")\n",
    "plt.plot(x_range, gini_mean_test, marker='o', label='gini: test', color=f\"C{2}\")\n",
    "plt.plot(x_range, entropy_mean_train, marker='o', label='entropy: train', color=f\"C{3}\")\n",
    "plt.plot(x_range, entropy_mean_test, marker='o', label='entropy: test', color=f\"C{4}\")\n",
    "\n",
    "plt.legend()\n",
    "plt.show()"
   ]
  },
  {
   "cell_type": "code",
   "execution_count": 13,
   "metadata": {
    "scrolled": true
   },
   "outputs": [
    {
     "name": "stdout",
     "output_type": "stream",
     "text": [
      "{'criterion': 'gini', 'max_depth': 3} 0.9406593406593406\n"
     ]
    },
    {
     "data": {
      "text/plain": [
       "DecisionTreeClassifier(max_depth=3, random_state=712)"
      ]
     },
     "execution_count": 13,
     "metadata": {},
     "output_type": "execute_result"
    }
   ],
   "source": [
    "# search for the best param\n",
    "best_params = tree_grid_search_result_df[\"params\"][np.argmax(tree_grid_search_result_df['mean_test_score'])]\n",
    "best_score = np.max(tree_grid_search_result_df['mean_test_score'])\n",
    "\n",
    "print(best_params, best_score)\n",
    "\n",
    "# best parameter tester\n",
    "best_tree_clf = tree.DecisionTreeClassifier(\n",
    "    max_depth=3,\n",
    "    random_state=seed,\n",
    "    criterion='gini'\n",
    ")\n",
    "\n",
    "best_tree_clf.fit(X_train, y_train)"
   ]
  },
  {
   "cell_type": "code",
   "execution_count": 14,
   "metadata": {},
   "outputs": [
    {
     "data": {
      "image/png": "[encoded data removed]",
      "text/plain": [
       "<Figure size 432x288 with 1 Axes>"
      ]
     },
     "metadata": {},
     "output_type": "display_data"
    }
   ],
   "source": [
    "# Learning Curve Analysis\n",
    "\n",
    "learning_curve_plotter(best_tree_clf, X_train, y_train)"
   ]
  },
  {
   "cell_type": "code",
   "execution_count": 16,
   "metadata": {},
   "outputs": [
    {
     "name": "stdout",
     "output_type": "stream",
     "text": [
      "score - train: 0.967032967032967, test: 0.9385964912280702\n",
      "test metrics - roc: 0.9412162162162161, f1: 0.9517241379310345\n"
     ]
    }
   ],
   "source": [
    "# Test Set Performance\n",
    "\n",
    "score(X_train, y_train, X_test, y_test, best_tree_clf)\n",
    "metrics(y_test, best_tree_clf.predict(X_test))"
   ]
  },
  {
   "cell_type": "code",
   "execution_count": 17,
   "metadata": {
    "collapsed": true
   },
   "outputs": [
    {
     "data": {
      "image/png": "[encoded data removed]",
      "text/plain": [
       "<Figure size 432x288 with 1 Axes>"
      ]
     },
     "metadata": {},
     "output_type": "display_data"
    }
   ],
   "source": [
    "# feature importance\n",
    "\n",
    "def plot_feature_importances(model):\n",
    "    n_features = cancer.data.shape[1]\n",
    "    plt.barh(range(n_features),\n",
    "            model.feature_importances_,\n",
    "            align='center')\n",
    "    plt.yticks(np.arange(n_features),\n",
    "              cancer.feature_names)\n",
    "    plt.xlabel(\"feature_importances\")\n",
    "    plt.ylabel(\"feature\")\n",
    "    plt.ylim(-1, n_features)\n",
    "    plt.show()\n",
    "    \n",
    "plot_feature_importances(tree_clf)\n",
    "\n",
    "# # feature별 importance 매핑\n",
    "# for name, value in zip(cancer.feature_names , best_tree_clf.feature_importances_):\n",
    "#     print('{} : {:.3f}'.format(name, value))\n",
    "    \n",
    "# # feature importance를 column 별로 시각화 하기\n",
    "# sns.barplot(x=best_tree_clf.feature_importances_ , y=cancer.feature_names)"
   ]
  },
  {
   "cell_type": "markdown",
   "metadata": {},
   "source": [
    "## Neural Network\n",
    "\n",
    "- actvation function & nn layer의 다양성 분석\n",
    "- Learning rate와 momentum을 조정하여 NN의 학습을 빠르게할 수있음 (trade-off)는 있음\n",
    "- Regularization은 overfitting을 방지 할 수 있음"
   ]
  },
  {
   "cell_type": "code",
   "execution_count": 18,
   "metadata": {},
   "outputs": [
    {
     "name": "stderr",
     "output_type": "stream",
     "text": [
      "/Users/user/anaconda3/lib/python3.8/site-packages/sklearn/neural_network/_multilayer_perceptron.py:582: ConvergenceWarning: Stochastic Optimizer: Maximum iterations (200) reached and the optimization hasn't converged yet.\n",
      "  warnings.warn(\n",
      "[Parallel(n_jobs=-1)]: Using backend LokyBackend with 12 concurrent workers.\n",
      "[Parallel(n_jobs=-1)]: Done   8 tasks      | elapsed:    0.0s\n"
     ]
    },
    {
     "name": "stdout",
     "output_type": "stream",
     "text": [
      "Fitting 5 folds for each of 1152 candidates, totalling 5760 fits\n"
     ]
    },
    {
     "name": "stderr",
     "output_type": "stream",
     "text": [
      "[Parallel(n_jobs=-1)]: Done 488 tasks      | elapsed:    1.7s\n",
      "[Parallel(n_jobs=-1)]: Done 3048 tasks      | elapsed:   10.3s\n",
      "[Parallel(n_jobs=-1)]: Done 4472 tasks      | elapsed:   16.8s\n",
      "[Parallel(n_jobs=-1)]: Done 5652 tasks      | elapsed:   21.7s\n",
      "[Parallel(n_jobs=-1)]: Done 5760 out of 5760 | elapsed:   22.1s finished\n"
     ]
    },
    {
     "data": {
      "text/plain": [
       "GridSearchCV(estimator=MLPClassifier(random_state=712), n_jobs=-1,\n",
       "             param_grid={'activation': ['relu', 'tanh'],\n",
       "                         'alpha': [1e-05, 0.0001, 0.001, 0.01],\n",
       "                         'hidden_layer_sizes': [10, 30, 50],\n",
       "                         'learning_rate_init': [0.1, 0.5, 0.7, 1],\n",
       "                         'max_iter': [1, 10, 50, 100],\n",
       "                         'momentum': [0, 0.5, 0.9]},\n",
       "             return_train_score=True, scoring='f1_micro', verbose=3)"
      ]
     },
     "execution_count": 18,
     "metadata": {},
     "output_type": "execute_result"
    }
   ],
   "source": [
    "nn_params = {\n",
    "    \"activation\":[\"relu\", \"tanh\"],\n",
    "    \"learning_rate_init\": [0.1, 0.5, 0.7, 1],\n",
    "    \"momentum\": [0, 0.5, 0.9],\n",
    "    \"alpha\": [1e-5, 1e-4, 1e-3, 1e-2],\n",
    "    \"hidden_layer_sizes\": [10, 30, 50],\n",
    "    \"max_iter\": [1, 10, 50, 100]\n",
    "}\n",
    "\n",
    "nn_clf = MLPClassifier(random_state=seed)\n",
    "nn_clf.fit(X_train, y_train)\n",
    "\n",
    "nn_grid_search = GridSearchCV(estimator=nn_clf, param_grid=nn_params,\n",
    "                           scoring='f1_micro', return_train_score=True,\n",
    "                           verbose=3, n_jobs=-1)\n",
    "nn_grid_search.fit(X_train, y_train)"
   ]
  },
  {
   "cell_type": "code",
   "execution_count": 19,
   "metadata": {},
   "outputs": [
    {
     "data": {
      "text/html": [
       "<div>\n",
       "<style scoped>\n",
       "    .dataframe tbody tr th:only-of-type {\n",
       "        vertical-align: middle;\n",
       "    }\n",
       "\n",
       "    .dataframe tbody tr th {\n",
       "        vertical-align: top;\n",
       "    }\n",
       "\n",
       "    .dataframe thead th {\n",
       "        text-align: right;\n",
       "    }\n",
       "</style>\n",
       "<table border=\"1\" class=\"dataframe\">\n",
       "  <thead>\n",
       "    <tr style=\"text-align: right;\">\n",
       "      <th></th>\n",
       "      <th>mean_fit_time</th>\n",
       "      <th>std_fit_time</th>\n",
       "      <th>mean_score_time</th>\n",
       "      <th>std_score_time</th>\n",
       "      <th>param_activation</th>\n",
       "      <th>param_alpha</th>\n",
       "      <th>param_hidden_layer_sizes</th>\n",
       "      <th>param_learning_rate_init</th>\n",
       "      <th>param_max_iter</th>\n",
       "      <th>param_momentum</th>\n",
       "      <th>...</th>\n",
       "      <th>mean_test_score</th>\n",
       "      <th>std_test_score</th>\n",
       "      <th>rank_test_score</th>\n",
       "      <th>split0_train_score</th>\n",
       "      <th>split1_train_score</th>\n",
       "      <th>split2_train_score</th>\n",
       "      <th>split3_train_score</th>\n",
       "      <th>split4_train_score</th>\n",
       "      <th>mean_train_score</th>\n",
       "      <th>std_train_score</th>\n",
       "    </tr>\n",
       "  </thead>\n",
       "  <tbody>\n",
       "    <tr>\n",
       "      <th>539</th>\n",
       "      <td>0.135458</td>\n",
       "      <td>0.008985</td>\n",
       "      <td>0.001798</td>\n",
       "      <td>0.001066</td>\n",
       "      <td>relu</td>\n",
       "      <td>0.01</td>\n",
       "      <td>50</td>\n",
       "      <td>0.1</td>\n",
       "      <td>100</td>\n",
       "      <td>0.9</td>\n",
       "      <td>...</td>\n",
       "      <td>0.978022</td>\n",
       "      <td>0.006950</td>\n",
       "      <td>1</td>\n",
       "      <td>1.000000</td>\n",
       "      <td>1.000000</td>\n",
       "      <td>1.000000</td>\n",
       "      <td>1.000000</td>\n",
       "      <td>1.000000</td>\n",
       "      <td>1.000000</td>\n",
       "      <td>0.000000</td>\n",
       "    </tr>\n",
       "    <tr>\n",
       "      <th>538</th>\n",
       "      <td>0.125049</td>\n",
       "      <td>0.011389</td>\n",
       "      <td>0.001200</td>\n",
       "      <td>0.000032</td>\n",
       "      <td>relu</td>\n",
       "      <td>0.01</td>\n",
       "      <td>50</td>\n",
       "      <td>0.1</td>\n",
       "      <td>100</td>\n",
       "      <td>0.5</td>\n",
       "      <td>...</td>\n",
       "      <td>0.978022</td>\n",
       "      <td>0.006950</td>\n",
       "      <td>1</td>\n",
       "      <td>1.000000</td>\n",
       "      <td>1.000000</td>\n",
       "      <td>1.000000</td>\n",
       "      <td>1.000000</td>\n",
       "      <td>1.000000</td>\n",
       "      <td>1.000000</td>\n",
       "      <td>0.000000</td>\n",
       "    </tr>\n",
       "    <tr>\n",
       "      <th>537</th>\n",
       "      <td>0.137943</td>\n",
       "      <td>0.012603</td>\n",
       "      <td>0.001234</td>\n",
       "      <td>0.000089</td>\n",
       "      <td>relu</td>\n",
       "      <td>0.01</td>\n",
       "      <td>50</td>\n",
       "      <td>0.1</td>\n",
       "      <td>100</td>\n",
       "      <td>0</td>\n",
       "      <td>...</td>\n",
       "      <td>0.978022</td>\n",
       "      <td>0.006950</td>\n",
       "      <td>1</td>\n",
       "      <td>1.000000</td>\n",
       "      <td>1.000000</td>\n",
       "      <td>1.000000</td>\n",
       "      <td>1.000000</td>\n",
       "      <td>1.000000</td>\n",
       "      <td>1.000000</td>\n",
       "      <td>0.000000</td>\n",
       "    </tr>\n",
       "    <tr>\n",
       "      <th>115</th>\n",
       "      <td>0.066226</td>\n",
       "      <td>0.014538</td>\n",
       "      <td>0.001357</td>\n",
       "      <td>0.000302</td>\n",
       "      <td>relu</td>\n",
       "      <td>1e-05</td>\n",
       "      <td>50</td>\n",
       "      <td>0.5</td>\n",
       "      <td>50</td>\n",
       "      <td>0.5</td>\n",
       "      <td>...</td>\n",
       "      <td>0.975824</td>\n",
       "      <td>0.008223</td>\n",
       "      <td>4</td>\n",
       "      <td>1.000000</td>\n",
       "      <td>1.000000</td>\n",
       "      <td>1.000000</td>\n",
       "      <td>0.997253</td>\n",
       "      <td>1.000000</td>\n",
       "      <td>0.999451</td>\n",
       "      <td>0.001099</td>\n",
       "    </tr>\n",
       "    <tr>\n",
       "      <th>114</th>\n",
       "      <td>0.062463</td>\n",
       "      <td>0.010215</td>\n",
       "      <td>0.001182</td>\n",
       "      <td>0.000060</td>\n",
       "      <td>relu</td>\n",
       "      <td>1e-05</td>\n",
       "      <td>50</td>\n",
       "      <td>0.5</td>\n",
       "      <td>50</td>\n",
       "      <td>0</td>\n",
       "      <td>...</td>\n",
       "      <td>0.975824</td>\n",
       "      <td>0.008223</td>\n",
       "      <td>4</td>\n",
       "      <td>1.000000</td>\n",
       "      <td>1.000000</td>\n",
       "      <td>1.000000</td>\n",
       "      <td>0.997253</td>\n",
       "      <td>1.000000</td>\n",
       "      <td>0.999451</td>\n",
       "      <td>0.001099</td>\n",
       "    </tr>\n",
       "    <tr>\n",
       "      <th>...</th>\n",
       "      <td>...</td>\n",
       "      <td>...</td>\n",
       "      <td>...</td>\n",
       "      <td>...</td>\n",
       "      <td>...</td>\n",
       "      <td>...</td>\n",
       "      <td>...</td>\n",
       "      <td>...</td>\n",
       "      <td>...</td>\n",
       "      <td>...</td>\n",
       "      <td>...</td>\n",
       "      <td>...</td>\n",
       "      <td>...</td>\n",
       "      <td>...</td>\n",
       "      <td>...</td>\n",
       "      <td>...</td>\n",
       "      <td>...</td>\n",
       "      <td>...</td>\n",
       "      <td>...</td>\n",
       "      <td>...</td>\n",
       "      <td>...</td>\n",
       "    </tr>\n",
       "    <tr>\n",
       "      <th>661</th>\n",
       "      <td>0.004324</td>\n",
       "      <td>0.002418</td>\n",
       "      <td>0.001160</td>\n",
       "      <td>0.000028</td>\n",
       "      <td>tanh</td>\n",
       "      <td>1e-05</td>\n",
       "      <td>30</td>\n",
       "      <td>1</td>\n",
       "      <td>1</td>\n",
       "      <td>0.5</td>\n",
       "      <td>...</td>\n",
       "      <td>0.118681</td>\n",
       "      <td>0.036380</td>\n",
       "      <td>1141</td>\n",
       "      <td>0.112637</td>\n",
       "      <td>0.123626</td>\n",
       "      <td>0.134615</td>\n",
       "      <td>0.112637</td>\n",
       "      <td>0.107143</td>\n",
       "      <td>0.118132</td>\n",
       "      <td>0.009829</td>\n",
       "    </tr>\n",
       "    <tr>\n",
       "      <th>660</th>\n",
       "      <td>0.002974</td>\n",
       "      <td>0.000698</td>\n",
       "      <td>0.001137</td>\n",
       "      <td>0.000016</td>\n",
       "      <td>tanh</td>\n",
       "      <td>1e-05</td>\n",
       "      <td>30</td>\n",
       "      <td>1</td>\n",
       "      <td>1</td>\n",
       "      <td>0</td>\n",
       "      <td>...</td>\n",
       "      <td>0.118681</td>\n",
       "      <td>0.036380</td>\n",
       "      <td>1141</td>\n",
       "      <td>0.112637</td>\n",
       "      <td>0.123626</td>\n",
       "      <td>0.134615</td>\n",
       "      <td>0.112637</td>\n",
       "      <td>0.107143</td>\n",
       "      <td>0.118132</td>\n",
       "      <td>0.009829</td>\n",
       "    </tr>\n",
       "    <tr>\n",
       "      <th>806</th>\n",
       "      <td>0.002748</td>\n",
       "      <td>0.000326</td>\n",
       "      <td>0.001144</td>\n",
       "      <td>0.000037</td>\n",
       "      <td>tanh</td>\n",
       "      <td>0.0001</td>\n",
       "      <td>30</td>\n",
       "      <td>1</td>\n",
       "      <td>1</td>\n",
       "      <td>0.9</td>\n",
       "      <td>...</td>\n",
       "      <td>0.118681</td>\n",
       "      <td>0.036380</td>\n",
       "      <td>1141</td>\n",
       "      <td>0.112637</td>\n",
       "      <td>0.123626</td>\n",
       "      <td>0.134615</td>\n",
       "      <td>0.112637</td>\n",
       "      <td>0.107143</td>\n",
       "      <td>0.118132</td>\n",
       "      <td>0.009829</td>\n",
       "    </tr>\n",
       "    <tr>\n",
       "      <th>1092</th>\n",
       "      <td>0.002684</td>\n",
       "      <td>0.000139</td>\n",
       "      <td>0.001239</td>\n",
       "      <td>0.000172</td>\n",
       "      <td>tanh</td>\n",
       "      <td>0.01</td>\n",
       "      <td>30</td>\n",
       "      <td>1</td>\n",
       "      <td>1</td>\n",
       "      <td>0</td>\n",
       "      <td>...</td>\n",
       "      <td>0.118681</td>\n",
       "      <td>0.036380</td>\n",
       "      <td>1141</td>\n",
       "      <td>0.112637</td>\n",
       "      <td>0.123626</td>\n",
       "      <td>0.137363</td>\n",
       "      <td>0.109890</td>\n",
       "      <td>0.107143</td>\n",
       "      <td>0.118132</td>\n",
       "      <td>0.011126</td>\n",
       "    </tr>\n",
       "    <tr>\n",
       "      <th>804</th>\n",
       "      <td>0.005857</td>\n",
       "      <td>0.006720</td>\n",
       "      <td>0.001169</td>\n",
       "      <td>0.000043</td>\n",
       "      <td>tanh</td>\n",
       "      <td>0.0001</td>\n",
       "      <td>30</td>\n",
       "      <td>1</td>\n",
       "      <td>1</td>\n",
       "      <td>0</td>\n",
       "      <td>...</td>\n",
       "      <td>0.118681</td>\n",
       "      <td>0.036380</td>\n",
       "      <td>1141</td>\n",
       "      <td>0.112637</td>\n",
       "      <td>0.123626</td>\n",
       "      <td>0.134615</td>\n",
       "      <td>0.112637</td>\n",
       "      <td>0.107143</td>\n",
       "      <td>0.118132</td>\n",
       "      <td>0.009829</td>\n",
       "    </tr>\n",
       "  </tbody>\n",
       "</table>\n",
       "<p>1152 rows × 26 columns</p>\n",
       "</div>"
      ],
      "text/plain": [
       "      mean_fit_time  std_fit_time  mean_score_time  std_score_time  \\\n",
       "539        0.135458      0.008985         0.001798        0.001066   \n",
       "538        0.125049      0.011389         0.001200        0.000032   \n",
       "537        0.137943      0.012603         0.001234        0.000089   \n",
       "115        0.066226      0.014538         0.001357        0.000302   \n",
       "114        0.062463      0.010215         0.001182        0.000060   \n",
       "...             ...           ...              ...             ...   \n",
       "661        0.004324      0.002418         0.001160        0.000028   \n",
       "660        0.002974      0.000698         0.001137        0.000016   \n",
       "806        0.002748      0.000326         0.001144        0.000037   \n",
       "1092       0.002684      0.000139         0.001239        0.000172   \n",
       "804        0.005857      0.006720         0.001169        0.000043   \n",
       "\n",
       "     param_activation param_alpha param_hidden_layer_sizes  \\\n",
       "539              relu        0.01                       50   \n",
       "538              relu        0.01                       50   \n",
       "537              relu        0.01                       50   \n",
       "115              relu       1e-05                       50   \n",
       "114              relu       1e-05                       50   \n",
       "...               ...         ...                      ...   \n",
       "661              tanh       1e-05                       30   \n",
       "660              tanh       1e-05                       30   \n",
       "806              tanh      0.0001                       30   \n",
       "1092             tanh        0.01                       30   \n",
       "804              tanh      0.0001                       30   \n",
       "\n",
       "     param_learning_rate_init param_max_iter param_momentum  ...  \\\n",
       "539                       0.1            100            0.9  ...   \n",
       "538                       0.1            100            0.5  ...   \n",
       "537                       0.1            100              0  ...   \n",
       "115                       0.5             50            0.5  ...   \n",
       "114                       0.5             50              0  ...   \n",
       "...                       ...            ...            ...  ...   \n",
       "661                         1              1            0.5  ...   \n",
       "660                         1              1              0  ...   \n",
       "806                         1              1            0.9  ...   \n",
       "1092                        1              1              0  ...   \n",
       "804                         1              1              0  ...   \n",
       "\n",
       "     mean_test_score  std_test_score  rank_test_score  split0_train_score  \\\n",
       "539         0.978022        0.006950                1            1.000000   \n",
       "538         0.978022        0.006950                1            1.000000   \n",
       "537         0.978022        0.006950                1            1.000000   \n",
       "115         0.975824        0.008223                4            1.000000   \n",
       "114         0.975824        0.008223                4            1.000000   \n",
       "...              ...             ...              ...                 ...   \n",
       "661         0.118681        0.036380             1141            0.112637   \n",
       "660         0.118681        0.036380             1141            0.112637   \n",
       "806         0.118681        0.036380             1141            0.112637   \n",
       "1092        0.118681        0.036380             1141            0.112637   \n",
       "804         0.118681        0.036380             1141            0.112637   \n",
       "\n",
       "      split1_train_score  split2_train_score  split3_train_score  \\\n",
       "539             1.000000            1.000000            1.000000   \n",
       "538             1.000000            1.000000            1.000000   \n",
       "537             1.000000            1.000000            1.000000   \n",
       "115             1.000000            1.000000            0.997253   \n",
       "114             1.000000            1.000000            0.997253   \n",
       "...                  ...                 ...                 ...   \n",
       "661             0.123626            0.134615            0.112637   \n",
       "660             0.123626            0.134615            0.112637   \n",
       "806             0.123626            0.134615            0.112637   \n",
       "1092            0.123626            0.137363            0.109890   \n",
       "804             0.123626            0.134615            0.112637   \n",
       "\n",
       "      split4_train_score  mean_train_score  std_train_score  \n",
       "539             1.000000          1.000000         0.000000  \n",
       "538             1.000000          1.000000         0.000000  \n",
       "537             1.000000          1.000000         0.000000  \n",
       "115             1.000000          0.999451         0.001099  \n",
       "114             1.000000          0.999451         0.001099  \n",
       "...                  ...               ...              ...  \n",
       "661             0.107143          0.118132         0.009829  \n",
       "660             0.107143          0.118132         0.009829  \n",
       "806             0.107143          0.118132         0.009829  \n",
       "1092            0.107143          0.118132         0.011126  \n",
       "804             0.107143          0.118132         0.009829  \n",
       "\n",
       "[1152 rows x 26 columns]"
      ]
     },
     "execution_count": 19,
     "metadata": {},
     "output_type": "execute_result"
    }
   ],
   "source": [
    "# grid_search.best_score_\n",
    "\n",
    "nn_grid_search.cv_results_.keys()\n",
    "nn_grid_search_result_df = pd.DataFrame(nn_grid_search.cv_results_)\n",
    "nn_grid_search_result_df.sort_values(by=\"rank_test_score\")"
   ]
  },
  {
   "cell_type": "code",
   "execution_count": 20,
   "metadata": {},
   "outputs": [
    {
     "ename": "ValueError",
     "evalue": "x and y must have same first dimension, but have shapes (3,) and (18,)",
     "output_type": "error",
     "traceback": [
      "\u001b[0;31m---------------------------------------------------------------------------\u001b[0m",
      "\u001b[0;31mValueError\u001b[0m                                Traceback (most recent call last)",
      "\u001b[0;32m<ipython-input-20-a02f65bb39e5>\u001b[0m in \u001b[0;36m<module>\u001b[0;34m\u001b[0m\n\u001b[1;32m     12\u001b[0m \u001b[0mplt\u001b[0m\u001b[0;34m.\u001b[0m\u001b[0mtitle\u001b[0m\u001b[0;34m(\u001b[0m\u001b[0mtitle\u001b[0m\u001b[0;34m)\u001b[0m\u001b[0;34m\u001b[0m\u001b[0;34m\u001b[0m\u001b[0m\n\u001b[1;32m     13\u001b[0m \u001b[0;34m\u001b[0m\u001b[0m\n\u001b[0;32m---> 14\u001b[0;31m \u001b[0mplt\u001b[0m\u001b[0;34m.\u001b[0m\u001b[0mplot\u001b[0m\u001b[0;34m(\u001b[0m\u001b[0mx_range\u001b[0m\u001b[0;34m,\u001b[0m \u001b[0mnn_mean_train\u001b[0m\u001b[0;34m,\u001b[0m \u001b[0mmarker\u001b[0m\u001b[0;34m=\u001b[0m\u001b[0;34m'o'\u001b[0m\u001b[0;34m,\u001b[0m \u001b[0mlabel\u001b[0m\u001b[0;34m=\u001b[0m\u001b[0;34m'nn train'\u001b[0m\u001b[0;34m,\u001b[0m \u001b[0mcolor\u001b[0m\u001b[0;34m=\u001b[0m\u001b[0;34mf\"C{1}\"\u001b[0m\u001b[0;34m)\u001b[0m\u001b[0;34m\u001b[0m\u001b[0;34m\u001b[0m\u001b[0m\n\u001b[0m\u001b[1;32m     15\u001b[0m \u001b[0mplt\u001b[0m\u001b[0;34m.\u001b[0m\u001b[0mplot\u001b[0m\u001b[0;34m(\u001b[0m\u001b[0mx_range\u001b[0m\u001b[0;34m,\u001b[0m \u001b[0mnn_mean_test\u001b[0m\u001b[0;34m,\u001b[0m \u001b[0mmarker\u001b[0m\u001b[0;34m=\u001b[0m\u001b[0;34m'o'\u001b[0m\u001b[0;34m,\u001b[0m \u001b[0mlabel\u001b[0m\u001b[0;34m=\u001b[0m\u001b[0;34m'nn test'\u001b[0m\u001b[0;34m,\u001b[0m \u001b[0mcolor\u001b[0m\u001b[0;34m=\u001b[0m\u001b[0;34mf\"C{2}\"\u001b[0m\u001b[0;34m)\u001b[0m\u001b[0;34m\u001b[0m\u001b[0;34m\u001b[0m\u001b[0m\n\u001b[1;32m     16\u001b[0m \u001b[0;34m\u001b[0m\u001b[0m\n",
      "\u001b[0;32m~/anaconda3/lib/python3.8/site-packages/matplotlib/pyplot.py\u001b[0m in \u001b[0;36mplot\u001b[0;34m(scalex, scaley, data, *args, **kwargs)\u001b[0m\n\u001b[1;32m   2759\u001b[0m \u001b[0;34m@\u001b[0m\u001b[0mdocstring\u001b[0m\u001b[0;34m.\u001b[0m\u001b[0mcopy\u001b[0m\u001b[0;34m(\u001b[0m\u001b[0mAxes\u001b[0m\u001b[0;34m.\u001b[0m\u001b[0mplot\u001b[0m\u001b[0;34m)\u001b[0m\u001b[0;34m\u001b[0m\u001b[0;34m\u001b[0m\u001b[0m\n\u001b[1;32m   2760\u001b[0m \u001b[0;32mdef\u001b[0m \u001b[0mplot\u001b[0m\u001b[0;34m(\u001b[0m\u001b[0;34m*\u001b[0m\u001b[0margs\u001b[0m\u001b[0;34m,\u001b[0m \u001b[0mscalex\u001b[0m\u001b[0;34m=\u001b[0m\u001b[0;32mTrue\u001b[0m\u001b[0;34m,\u001b[0m \u001b[0mscaley\u001b[0m\u001b[0;34m=\u001b[0m\u001b[0;32mTrue\u001b[0m\u001b[0;34m,\u001b[0m \u001b[0mdata\u001b[0m\u001b[0;34m=\u001b[0m\u001b[0;32mNone\u001b[0m\u001b[0;34m,\u001b[0m \u001b[0;34m**\u001b[0m\u001b[0mkwargs\u001b[0m\u001b[0;34m)\u001b[0m\u001b[0;34m:\u001b[0m\u001b[0;34m\u001b[0m\u001b[0;34m\u001b[0m\u001b[0m\n\u001b[0;32m-> 2761\u001b[0;31m     return gca().plot(\n\u001b[0m\u001b[1;32m   2762\u001b[0m         *args, scalex=scalex, scaley=scaley, **({\"data\": data} if data\n\u001b[1;32m   2763\u001b[0m         is not None else {}), **kwargs)\n",
      "\u001b[0;32m~/anaconda3/lib/python3.8/site-packages/matplotlib/axes/_axes.py\u001b[0m in \u001b[0;36mplot\u001b[0;34m(self, scalex, scaley, data, *args, **kwargs)\u001b[0m\n\u001b[1;32m   1645\u001b[0m         \"\"\"\n\u001b[1;32m   1646\u001b[0m         \u001b[0mkwargs\u001b[0m \u001b[0;34m=\u001b[0m \u001b[0mcbook\u001b[0m\u001b[0;34m.\u001b[0m\u001b[0mnormalize_kwargs\u001b[0m\u001b[0;34m(\u001b[0m\u001b[0mkwargs\u001b[0m\u001b[0;34m,\u001b[0m \u001b[0mmlines\u001b[0m\u001b[0;34m.\u001b[0m\u001b[0mLine2D\u001b[0m\u001b[0;34m)\u001b[0m\u001b[0;34m\u001b[0m\u001b[0;34m\u001b[0m\u001b[0m\n\u001b[0;32m-> 1647\u001b[0;31m         \u001b[0mlines\u001b[0m \u001b[0;34m=\u001b[0m \u001b[0;34m[\u001b[0m\u001b[0;34m*\u001b[0m\u001b[0mself\u001b[0m\u001b[0;34m.\u001b[0m\u001b[0m_get_lines\u001b[0m\u001b[0;34m(\u001b[0m\u001b[0;34m*\u001b[0m\u001b[0margs\u001b[0m\u001b[0;34m,\u001b[0m \u001b[0mdata\u001b[0m\u001b[0;34m=\u001b[0m\u001b[0mdata\u001b[0m\u001b[0;34m,\u001b[0m \u001b[0;34m**\u001b[0m\u001b[0mkwargs\u001b[0m\u001b[0;34m)\u001b[0m\u001b[0;34m]\u001b[0m\u001b[0;34m\u001b[0m\u001b[0;34m\u001b[0m\u001b[0m\n\u001b[0m\u001b[1;32m   1648\u001b[0m         \u001b[0;32mfor\u001b[0m \u001b[0mline\u001b[0m \u001b[0;32min\u001b[0m \u001b[0mlines\u001b[0m\u001b[0;34m:\u001b[0m\u001b[0;34m\u001b[0m\u001b[0;34m\u001b[0m\u001b[0m\n\u001b[1;32m   1649\u001b[0m             \u001b[0mself\u001b[0m\u001b[0;34m.\u001b[0m\u001b[0madd_line\u001b[0m\u001b[0;34m(\u001b[0m\u001b[0mline\u001b[0m\u001b[0;34m)\u001b[0m\u001b[0;34m\u001b[0m\u001b[0;34m\u001b[0m\u001b[0m\n",
      "\u001b[0;32m~/anaconda3/lib/python3.8/site-packages/matplotlib/axes/_base.py\u001b[0m in \u001b[0;36m__call__\u001b[0;34m(self, *args, **kwargs)\u001b[0m\n\u001b[1;32m    214\u001b[0m                 \u001b[0mthis\u001b[0m \u001b[0;34m+=\u001b[0m \u001b[0margs\u001b[0m\u001b[0;34m[\u001b[0m\u001b[0;36m0\u001b[0m\u001b[0;34m]\u001b[0m\u001b[0;34m,\u001b[0m\u001b[0;34m\u001b[0m\u001b[0;34m\u001b[0m\u001b[0m\n\u001b[1;32m    215\u001b[0m                 \u001b[0margs\u001b[0m \u001b[0;34m=\u001b[0m \u001b[0margs\u001b[0m\u001b[0;34m[\u001b[0m\u001b[0;36m1\u001b[0m\u001b[0;34m:\u001b[0m\u001b[0;34m]\u001b[0m\u001b[0;34m\u001b[0m\u001b[0;34m\u001b[0m\u001b[0m\n\u001b[0;32m--> 216\u001b[0;31m             \u001b[0;32myield\u001b[0m \u001b[0;32mfrom\u001b[0m \u001b[0mself\u001b[0m\u001b[0;34m.\u001b[0m\u001b[0m_plot_args\u001b[0m\u001b[0;34m(\u001b[0m\u001b[0mthis\u001b[0m\u001b[0;34m,\u001b[0m \u001b[0mkwargs\u001b[0m\u001b[0;34m)\u001b[0m\u001b[0;34m\u001b[0m\u001b[0;34m\u001b[0m\u001b[0m\n\u001b[0m\u001b[1;32m    217\u001b[0m \u001b[0;34m\u001b[0m\u001b[0m\n\u001b[1;32m    218\u001b[0m     \u001b[0;32mdef\u001b[0m \u001b[0mget_next_color\u001b[0m\u001b[0;34m(\u001b[0m\u001b[0mself\u001b[0m\u001b[0;34m)\u001b[0m\u001b[0;34m:\u001b[0m\u001b[0;34m\u001b[0m\u001b[0;34m\u001b[0m\u001b[0m\n",
      "\u001b[0;32m~/anaconda3/lib/python3.8/site-packages/matplotlib/axes/_base.py\u001b[0m in \u001b[0;36m_plot_args\u001b[0;34m(self, tup, kwargs)\u001b[0m\n\u001b[1;32m    340\u001b[0m \u001b[0;34m\u001b[0m\u001b[0m\n\u001b[1;32m    341\u001b[0m         \u001b[0;32mif\u001b[0m \u001b[0mx\u001b[0m\u001b[0;34m.\u001b[0m\u001b[0mshape\u001b[0m\u001b[0;34m[\u001b[0m\u001b[0;36m0\u001b[0m\u001b[0;34m]\u001b[0m \u001b[0;34m!=\u001b[0m \u001b[0my\u001b[0m\u001b[0;34m.\u001b[0m\u001b[0mshape\u001b[0m\u001b[0;34m[\u001b[0m\u001b[0;36m0\u001b[0m\u001b[0;34m]\u001b[0m\u001b[0;34m:\u001b[0m\u001b[0;34m\u001b[0m\u001b[0;34m\u001b[0m\u001b[0m\n\u001b[0;32m--> 342\u001b[0;31m             raise ValueError(f\"x and y must have same first dimension, but \"\n\u001b[0m\u001b[1;32m    343\u001b[0m                              f\"have shapes {x.shape} and {y.shape}\")\n\u001b[1;32m    344\u001b[0m         \u001b[0;32mif\u001b[0m \u001b[0mx\u001b[0m\u001b[0;34m.\u001b[0m\u001b[0mndim\u001b[0m \u001b[0;34m>\u001b[0m \u001b[0;36m2\u001b[0m \u001b[0;32mor\u001b[0m \u001b[0my\u001b[0m\u001b[0;34m.\u001b[0m\u001b[0mndim\u001b[0m \u001b[0;34m>\u001b[0m \u001b[0;36m2\u001b[0m\u001b[0;34m:\u001b[0m\u001b[0;34m\u001b[0m\u001b[0;34m\u001b[0m\u001b[0m\n",
      "\u001b[0;31mValueError\u001b[0m: x and y must have same first dimension, but have shapes (3,) and (18,)"
     ]
    },
    {
     "data": {
      "image/png": "[encoded data removed]",
      "text/plain": [
       "<Figure size 432x288 with 1 Axes>"
      ]
     },
     "metadata": {},
     "output_type": "display_data"
    }
   ],
   "source": [
    "# grid_search.best_score_\n",
    "\n",
    "nn_grid_search.cv_results_.keys()\n",
    "nn_grid_search_result_df = pd.DataFrame(nn_grid_search.cv_results_)\n",
    "nn_grid_search_result_df.sort_values(by=\"rank_test_score\")\n",
    "\n",
    "x_range=nn_params['hidden_layer_sizes']\n",
    "x_label=\"hiddeh layer sizes\"\n",
    "y_label=\"f1_micro\"\n",
    "title=\"Breast Cancer Curve\"\n",
    "\n",
    "nn_mean_train = tree_grid_search_result_df[\"mean_train_score\"]\n",
    "nn_mean_test = tree_grid_search_result_df[\"mean_test_score\"]\n",
    "\n",
    "plt.grid()\n",
    "plt.xlabel(x_label)\n",
    "plt.ylabel(y_label)\n",
    "plt.title(title)\n",
    "\n",
    "plt.plot(x_range, nn_mean_train, marker='o', label='nn train', color=f\"C{1}\")\n",
    "plt.plot(x_range, nn_mean_test, marker='o', label='nn test', color=f\"C{2}\")\n",
    "\n",
    "plt.legend()\n",
    "plt.show()"
   ]
  },
  {
   "cell_type": "code",
   "execution_count": null,
   "metadata": {},
   "outputs": [],
   "source": [
    "# search for the best param\n",
    "best_params = nn_grid_search_result_df[\"params\"][np.argmax(nn_grid_search_result_df['mean_test_score'])]\n",
    "best_score = np.max(nn_grid_search_result_df['mean_test_score'])\n",
    "\n",
    "print(best_params, best_score)"
   ]
  },
  {
   "cell_type": "code",
   "execution_count": 40,
   "metadata": {},
   "outputs": [
    {
     "data": {
      "text/plain": [
       "MLPClassifier(alpha=0.01, hidden_layer_sizes=50, learning_rate_init=0.1,\n",
       "              max_iter=100, momentum=0, random_state=712)"
      ]
     },
     "execution_count": 40,
     "metadata": {},
     "output_type": "execute_result"
    }
   ],
   "source": [
    "# # best parameter tester\n",
    "best_nn_clf = MLPClassifier(\n",
    "    activation=\"relu\",\n",
    "    random_state=seed,\n",
    "    alpha=0.01,\n",
    "    hidden_layer_sizes=50,\n",
    "    learning_rate_init=0.1,\n",
    "    momentum=0,\n",
    "    max_iter=100\n",
    ")\n",
    "\n",
    "best_nn_clf.fit(X_train, y_train)"
   ]
  },
  {
   "cell_type": "code",
   "execution_count": 41,
   "metadata": {
    "collapsed": true
   },
   "outputs": [
    {
     "name": "stderr",
     "output_type": "stream",
     "text": [
      "/Users/user/anaconda3/lib/python3.8/site-packages/sklearn/neural_network/_multilayer_perceptron.py:582: ConvergenceWarning: Stochastic Optimizer: Maximum iterations (100) reached and the optimization hasn't converged yet.\n",
      "  warnings.warn(\n",
      "/Users/user/anaconda3/lib/python3.8/site-packages/sklearn/neural_network/_multilayer_perceptron.py:582: ConvergenceWarning: Stochastic Optimizer: Maximum iterations (100) reached and the optimization hasn't converged yet.\n",
      "  warnings.warn(\n",
      "/Users/user/anaconda3/lib/python3.8/site-packages/sklearn/neural_network/_multilayer_perceptron.py:582: ConvergenceWarning: Stochastic Optimizer: Maximum iterations (100) reached and the optimization hasn't converged yet.\n",
      "  warnings.warn(\n",
      "/Users/user/anaconda3/lib/python3.8/site-packages/sklearn/neural_network/_multilayer_perceptron.py:582: ConvergenceWarning: Stochastic Optimizer: Maximum iterations (100) reached and the optimization hasn't converged yet.\n",
      "  warnings.warn(\n",
      "/Users/user/anaconda3/lib/python3.8/site-packages/sklearn/neural_network/_multilayer_perceptron.py:582: ConvergenceWarning: Stochastic Optimizer: Maximum iterations (100) reached and the optimization hasn't converged yet.\n",
      "  warnings.warn(\n",
      "/Users/user/anaconda3/lib/python3.8/site-packages/sklearn/neural_network/_multilayer_perceptron.py:582: ConvergenceWarning: Stochastic Optimizer: Maximum iterations (100) reached and the optimization hasn't converged yet.\n",
      "  warnings.warn(\n",
      "/Users/user/anaconda3/lib/python3.8/site-packages/sklearn/neural_network/_multilayer_perceptron.py:582: ConvergenceWarning: Stochastic Optimizer: Maximum iterations (100) reached and the optimization hasn't converged yet.\n",
      "  warnings.warn(\n",
      "/Users/user/anaconda3/lib/python3.8/site-packages/sklearn/neural_network/_multilayer_perceptron.py:582: ConvergenceWarning: Stochastic Optimizer: Maximum iterations (100) reached and the optimization hasn't converged yet.\n",
      "  warnings.warn(\n",
      "/Users/user/anaconda3/lib/python3.8/site-packages/sklearn/neural_network/_multilayer_perceptron.py:582: ConvergenceWarning: Stochastic Optimizer: Maximum iterations (100) reached and the optimization hasn't converged yet.\n",
      "  warnings.warn(\n",
      "/Users/user/anaconda3/lib/python3.8/site-packages/sklearn/neural_network/_multilayer_perceptron.py:582: ConvergenceWarning: Stochastic Optimizer: Maximum iterations (100) reached and the optimization hasn't converged yet.\n",
      "  warnings.warn(\n",
      "/Users/user/anaconda3/lib/python3.8/site-packages/sklearn/neural_network/_multilayer_perceptron.py:582: ConvergenceWarning: Stochastic Optimizer: Maximum iterations (100) reached and the optimization hasn't converged yet.\n",
      "  warnings.warn(\n",
      "/Users/user/anaconda3/lib/python3.8/site-packages/sklearn/neural_network/_multilayer_perceptron.py:582: ConvergenceWarning: Stochastic Optimizer: Maximum iterations (100) reached and the optimization hasn't converged yet.\n",
      "  warnings.warn(\n",
      "/Users/user/anaconda3/lib/python3.8/site-packages/sklearn/neural_network/_multilayer_perceptron.py:582: ConvergenceWarning: Stochastic Optimizer: Maximum iterations (100) reached and the optimization hasn't converged yet.\n",
      "  warnings.warn(\n",
      "/Users/user/anaconda3/lib/python3.8/site-packages/sklearn/neural_network/_multilayer_perceptron.py:582: ConvergenceWarning: Stochastic Optimizer: Maximum iterations (100) reached and the optimization hasn't converged yet.\n",
      "  warnings.warn(\n",
      "/Users/user/anaconda3/lib/python3.8/site-packages/sklearn/neural_network/_multilayer_perceptron.py:582: ConvergenceWarning: Stochastic Optimizer: Maximum iterations (100) reached and the optimization hasn't converged yet.\n",
      "  warnings.warn(\n",
      "/Users/user/anaconda3/lib/python3.8/site-packages/sklearn/neural_network/_multilayer_perceptron.py:582: ConvergenceWarning: Stochastic Optimizer: Maximum iterations (100) reached and the optimization hasn't converged yet.\n",
      "  warnings.warn(\n",
      "/Users/user/anaconda3/lib/python3.8/site-packages/sklearn/neural_network/_multilayer_perceptron.py:582: ConvergenceWarning: Stochastic Optimizer: Maximum iterations (100) reached and the optimization hasn't converged yet.\n",
      "  warnings.warn(\n",
      "/Users/user/anaconda3/lib/python3.8/site-packages/sklearn/neural_network/_multilayer_perceptron.py:582: ConvergenceWarning: Stochastic Optimizer: Maximum iterations (100) reached and the optimization hasn't converged yet.\n",
      "  warnings.warn(\n"
     ]
    },
    {
     "data": {
      "image/png": "[encoded data removed]",
      "text/plain": [
       "<Figure size 432x288 with 1 Axes>"
      ]
     },
     "metadata": {},
     "output_type": "display_data"
    }
   ],
   "source": [
    "# Learning Curve Analysis\n",
    "\n",
    "learning_curve_plotter(best_nn_clf, X_train, y_train)"
   ]
  },
  {
   "cell_type": "code",
   "execution_count": 42,
   "metadata": {},
   "outputs": [
    {
     "name": "stdout",
     "output_type": "stream",
     "text": [
      "score - train: 0.9912087912087912, test: 0.9736842105263158\n",
      "test metrics - roc: 0.9797297297297297, f1: 0.9793103448275862\n"
     ]
    }
   ],
   "source": [
    "score(X_train, y_train, X_test, y_test, nn_clf)\n",
    "metrics(y_test, nn_clf.predict(X_test))"
   ]
  },
  {
   "cell_type": "markdown",
   "metadata": {},
   "source": [
    "## Boosting\n",
    "- bias와 varience의 영향을 가장 적게 받을 것임"
   ]
  },
  {
   "cell_type": "code",
   "execution_count": 38,
   "metadata": {},
   "outputs": [
    {
     "name": "stdout",
     "output_type": "stream",
     "text": [
      "Fitting 5 folds for each of 28 candidates, totalling 140 fits\n"
     ]
    },
    {
     "name": "stderr",
     "output_type": "stream",
     "text": [
      "[Parallel(n_jobs=-1)]: Using backend LokyBackend with 12 concurrent workers.\n",
      "[Parallel(n_jobs=-1)]: Done   8 tasks      | elapsed:    1.3s\n",
      "[Parallel(n_jobs=-1)]: Done 104 tasks      | elapsed:    5.3s\n",
      "[Parallel(n_jobs=-1)]: Done 140 out of 140 | elapsed:    7.8s finished\n"
     ]
    },
    {
     "data": {
      "text/plain": [
       "GridSearchCV(estimator=AdaBoostClassifier(random_state=712), n_jobs=-1,\n",
       "             param_grid={'learning_rate': [0.1, 0.5, 0.7, 1],\n",
       "                         'n_estimators': [1, 10, 50, 100, 200, 300, 500]},\n",
       "             return_train_score=True, scoring='f1_micro', verbose=3)"
      ]
     },
     "execution_count": 38,
     "metadata": {},
     "output_type": "execute_result"
    }
   ],
   "source": [
    "boosting_params = {\n",
    "    \"n_estimators\":[1, 10, 50, 100, 200, 300, 500],\n",
    "    \"learning_rate\": [0.1, 0.5, 0.7, 1],\n",
    "}\n",
    "\n",
    "ada_clf = AdaBoostClassifier(random_state=seed)\n",
    "\n",
    "ada_grid_search = GridSearchCV(estimator=ada_clf, param_grid=boosting_params,\n",
    "                           scoring='f1_micro', return_train_score=True,\n",
    "                           verbose=3, n_jobs=-1)\n",
    "ada_grid_search.fit(X_train, y_train)"
   ]
  },
  {
   "cell_type": "code",
   "execution_count": 97,
   "metadata": {},
   "outputs": [],
   "source": [
    "best_params = ada_grid_search_result_df[\"params\"][np.argmax(ada_grid_search_result_df['mean_test_score'])]\n",
    "best_score = np.max(ada_grid_search_result_df['mean_test_score'])"
   ]
  },
  {
   "cell_type": "code",
   "execution_count": 72,
   "metadata": {},
   "outputs": [],
   "source": [
    "param_list = [i for i in ada_grid_search_result_df.keys() if i.startswith(\"param_\")]\n",
    "new_df = pd.DataFrame(ada_grid_search_result_df, columns=[i for i in ada_grid_search_result_df.keys() if i != 'params'])"
   ]
  },
  {
   "cell_type": "code",
   "execution_count": 78,
   "metadata": {},
   "outputs": [],
   "source": [
    "new_df2 = new_df.set_index(param_list)"
   ]
  },
  {
   "cell_type": "code",
   "execution_count": 83,
   "metadata": {},
   "outputs": [],
   "source": [
    "new_df3 = new_df2.drop(axis=1, labels=[i for i in new_df2.columns if i.startswith(\"split\")])"
   ]
  },
  {
   "cell_type": "code",
   "execution_count": 85,
   "metadata": {},
   "outputs": [],
   "source": [
    "lr1 = new_df3.xs(0.1, level=\"param_learning_rate\")"
   ]
  },
  {
   "cell_type": "code",
   "execution_count": 102,
   "metadata": {
    "collapsed": true
   },
   "outputs": [
    {
     "data": {
      "image/png": "[encoded data removed]",
      "text/plain": [
       "<Figure size 432x288 with 1 Axes>"
      ]
     },
     "metadata": {},
     "output_type": "display_data"
    }
   ],
   "source": [
    "# grid_search.best_score_\n",
    "\n",
    "ada_grid_search.cv_results_.keys()\n",
    "ada_grid_search_result_df = pd.DataFrame(ada_grid_search.cv_results_)\n",
    "ada_grid_search_result_df.sort_values(by=\"rank_test_score\")\n",
    "\n",
    "param_name = \"n_estimators\"\n",
    "\n",
    "x_range = boosting_params[param_name]\n",
    "x_label = param_name\n",
    "y_label = \"f1_micro\"\n",
    "title=f\"Breast Cancer Curve: {param_name}+lr=0.1\"\n",
    "\n",
    "mean_train = lr1[\"mean_train_score\"]\n",
    "mean_test = lr1[\"mean_test_score\"]\n",
    "std_train = lr1[\"std_train_score\"]\n",
    "std_test = lr1[\"std_test_score\"]\n",
    "\n",
    "plt.grid()\n",
    "plt.xlabel(x_label)\n",
    "plt.ylabel(y_label)\n",
    "plt.title(title)\n",
    "\n",
    "plt.plot(x_range, mean_train, marker='o', label='train', color=f\"C{1}\")\n",
    "plt.fill_between(x_range, mean_train+std_train, mean_train-std_train, color='green', alpha=0.1)\n",
    "plt.plot(x_range, mean_test, marker='s', label='test', color=f\"C{2}\")\n",
    "plt.fill_between(x_range, mean_test+std_test, mean_test-std_test, color='blue', alpha=0.1)\n",
    "\n",
    "plt.legend()\n",
    "plt.show()"
   ]
  },
  {
   "cell_type": "code",
   "execution_count": 108,
   "metadata": {},
   "outputs": [
    {
     "data": {
      "text/plain": [
       "array([0, 1, 0, 1, 0, 0, 1, 0, 1, 0, 1, 0, 0, 1, 1, 1, 0, 0, 1, 1, 1, 1,\n",
       "       1, 1, 0, 0, 1, 1, 1, 1, 1, 1, 1, 0, 1, 0, 1, 0, 1, 1, 0, 1, 0, 0,\n",
       "       1, 1, 1, 1, 0, 1, 1, 1, 0, 0, 1, 1, 1, 1, 1, 0, 1, 1, 0, 1, 1, 0,\n",
       "       1, 1, 1, 1, 0, 1, 1, 1, 1, 0, 1, 1, 0, 1, 1, 1, 1, 0, 0, 0, 1, 0,\n",
       "       1, 0, 1, 1, 1, 0, 1, 1, 0, 1, 0, 1, 1, 1, 1, 0, 1, 0, 0, 0, 1, 1,\n",
       "       0, 1, 1, 0])"
      ]
     },
     "execution_count": 108,
     "metadata": {},
     "output_type": "execute_result"
    }
   ],
   "source": [
    "ada_grid_search.best_estimator_.predict(X_test)"
   ]
  },
  {
   "cell_type": "code",
   "execution_count": 111,
   "metadata": {},
   "outputs": [
    {
     "name": "stdout",
     "output_type": "stream",
     "text": [
      "score - train: 1.0, test: 0.956140350877193\n",
      "test metrics - roc: 0.9547297297297297, f1: 0.9659863945578231\n"
     ]
    }
   ],
   "source": [
    "score(X_train, y_train, X_test, y_test, ada_grid_search)\n",
    "metrics(y_test, ada_grid_search.predict(X_test))"
   ]
  },
  {
   "cell_type": "code",
   "execution_count": 26,
   "metadata": {},
   "outputs": [
    {
     "data": {
      "text/plain": [
       "GradientBoostingClassifier(max_features=0.6, n_estimators=1000,\n",
       "                           random_state=712, subsample=0.7)"
      ]
     },
     "execution_count": 26,
     "metadata": {},
     "output_type": "execute_result"
    }
   ],
   "source": [
    "# grad_clf = GradientBoostingClassifier(\n",
    "#     learning_rate=0.1,\n",
    "#     n_estimators=1000,\n",
    "#     max_depth = 3, # no more than 5 usually\n",
    "#     max_features=0.6,\n",
    "#     subsample=0.7,\n",
    "#     random_state=seed\n",
    "# )\n",
    "# grad_clf.fit(X_train, y_train)\n",
    "\n",
    "# score(X_train, y_train, X_test, y_test, grad_clf)\n",
    "# metrics(y_test, grad_clf.predict(X_test))"
   ]
  },
  {
   "cell_type": "markdown",
   "metadata": {},
   "source": [
    "## SVM"
   ]
  },
  {
   "cell_type": "code",
   "execution_count": null,
   "metadata": {},
   "outputs": [],
   "source": [
    "# https://idkim97.github.io/machine%20learning/MachineLearning_SVM/\n",
    "\n",
    "svm_clf = svm.SVC(kernel='rbf', C=2, gamma=0.5) #gamma \n",
    "svm_clf.fit(X_train, y_train)"
   ]
  },
  {
   "cell_type": "code",
   "execution_count": null,
   "metadata": {},
   "outputs": [],
   "source": [
    "score(X_train, y_train, X_test, y_test, svm_clf)\n",
    "metrics(y_test, svm_clf.predict(X_test))"
   ]
  },
  {
   "cell_type": "code",
   "execution_count": null,
   "metadata": {},
   "outputs": [],
   "source": [
    "#gamma와 c를 바꿔가며 최적의 값 찾기\n",
    "gamma_list = [0.5, 2, 10, 100, 100]\n",
    "for gamma in gamma_list:\n",
    "    svm_clf = svm.SVC(kernel='rbf', C=10, gamma=gamma) #gamma \n",
    "    svm_clf.fit(X_train, y_train)\n",
    "    score(X_train, y_train, X_test, y_test, svm_clf)"
   ]
  },
  {
   "cell_type": "markdown",
   "metadata": {},
   "source": [
    "## K-NN"
   ]
  },
  {
   "cell_type": "code",
   "execution_count": null,
   "metadata": {},
   "outputs": [],
   "source": [
    "knn_clf = KNeighborsClassifier(n_neighbors=3)\n",
    "knn_clf.fit(X_train, y_train)"
   ]
  },
  {
   "cell_type": "code",
   "execution_count": null,
   "metadata": {},
   "outputs": [],
   "source": [
    "score(X_train, y_train, X_test, y_test, knn_clf)\n",
    "metrics(y_test, knn_clf.predict(X_test))"
   ]
  },
  {
   "cell_type": "code",
   "execution_count": null,
   "metadata": {},
   "outputs": [],
   "source": []
  }
 ],
 "metadata": {
  "kernelspec": {
   "display_name": "Python 3 (ipykernel)",
   "language": "python",
   "name": "python3"
  },
  "language_info": {
   "codemirror_mode": {
    "name": "ipython",
    "version": 3
   },
   "file_extension": ".py",
   "mimetype": "text/x-python",
   "name": "python",
   "nbconvert_exporter": "python",
   "pygments_lexer": "ipython3",
   "version": "3.10.0"
  }
 },
 "nbformat": 4,
 "nbformat_minor": 4
}
