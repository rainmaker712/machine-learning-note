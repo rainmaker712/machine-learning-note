{
 "cells": [
  {
   "cell_type": "code",
   "execution_count": 10,
   "id": "fb3a429c",
   "metadata": {},
   "outputs": [],
   "source": [
    "import os\n",
    "import pandas as pd\n",
    "import numpy as np\n",
    "import matplotlib.pyplot as plt\n",
    "from IPython.display import Image\n",
    "%matplotlib inline\n",
    "import matplotlib.cm as cm\n",
    "import seaborn as sns\n",
    "sns.set_style(\"dark\")\n",
    "\n",
    "from yellowbrick.cluster import KElbowVisualizer\n",
    "from sklearn.model_selection import train_test_split\n",
    "from sklearn.metrics import roc_auc_score, accuracy_score, f1_score\n",
    "from sklearn.metrics import classification_report\n",
    "from sklearn.preprocessing import MinMaxScaler\n",
    "\n",
    "# Clustering\n",
    "from sklearn.cluster import KMeans\n",
    "from sklearn.metrics import silhouette_score\n",
    "from sklearn.mixture import GaussianMixture as EM\n",
    "\n",
    "# Dim reduction\n",
    "from sklearn.decomposition import PCA, FastICA, TruncatedSVD\n",
    "from sklearn.random_projection import SparseRandomProjection, GaussianRandomProjection\n",
    "from scipy.stats import kurtosis \n",
    "\n",
    "# Models\n",
    "from sklearn.neural_network import MLPClassifier\n",
    "from sklearn.model_selection import cross_val_score\n",
    "\n",
    "from sklearn.datasets import load_digits\n",
    "from utils import learning_curve_plotter, model_param_curve, metrics"
   ]
  },
  {
   "cell_type": "code",
   "execution_count": 11,
   "id": "def5407b",
   "metadata": {},
   "outputs": [],
   "source": [
    "seed = 777"
   ]
  },
  {
   "cell_type": "code",
   "execution_count": 12,
   "id": "e0aa73fe",
   "metadata": {},
   "outputs": [],
   "source": [
    "# Diabet Load Dataset\n",
    "\n",
    "diabet_path = \"./data/diabetes.csv\"\n",
    "df_diabet = pd.read_csv(diabet_path)\n",
    "\n",
    "target = 'Outcome'\n",
    "features = [ 'Pregnancies', 'Glucose', 'BloodPressure', 'SkinThickness', 'Insulin',\n",
    "       'BMI', 'DiabetesPedigreeFunction', 'Age']\n",
    "\n",
    "X_origin, y = df_diabet[features], df_diabet[target]\n",
    "\n",
    "# data normalize\n",
    "sc = MinMaxScaler()\n",
    "sc.fit(X_origin)\n",
    "\n",
    "X = sc.transform(X_origin)\n",
    "X_df = pd.DataFrame(X)\n",
    "df_diabet = pd.concat([X_df, y], axis=1)"
   ]
  },
  {
   "cell_type": "code",
   "execution_count": 22,
   "id": "bc71d070",
   "metadata": {},
   "outputs": [],
   "source": [
    "# Load Dataset\n",
    "\n",
    "mnist = load_digits()\n",
    "\n",
    "# fig, axes = plt.subplots(2, 10, figsize=(16, 6))\n",
    "# for i in range(20):\n",
    "#     axes[i//10, i %10].imshow(mnist.images[i], cmap='gray');\n",
    "#     axes[i//10, i %10].axis('off')\n",
    "#     axes[i//10, i %10].set_title(f\"target: {mnist.target[i]}\")\n",
    "    \n",
    "# plt.tight_layout()\n",
    "\n",
    "# data normalize\n",
    "sc = MinMaxScaler()\n",
    "sc.fit(mnist.data)\n",
    "\n",
    "X = sc.transform(mnist.data)\n",
    "X_df = pd.DataFrame(X)\n",
    "y_target = pd.DataFrame(mnist.target)\n",
    "df_digit = pd.concat([X_df, y_target], axis=1)"
   ]
  },
  {
   "cell_type": "markdown",
   "id": "d51c2099",
   "metadata": {},
   "source": [
    "- Kmeans + PCA\n",
    "- Kmeans + ICA\n",
    "- Kmeans + RP\n",
    "- Kmeans + tsvd\n",
    "- em + PCA\n",
    "- em + ICA\n",
    "- em + RP\n",
    "- em + tsvd"
   ]
  }
 ],
 "metadata": {
  "kernelspec": {
   "display_name": "Python 3 (ipykernel)",
   "language": "python",
   "name": "python3"
  },
  "language_info": {
   "codemirror_mode": {
    "name": "ipython",
    "version": 3
   },
   "file_extension": ".py",
   "mimetype": "text/x-python",
   "name": "python",
   "nbconvert_exporter": "python",
   "pygments_lexer": "ipython3",
   "version": "3.10.0"
  }
 },
 "nbformat": 4,
 "nbformat_minor": 5
}
