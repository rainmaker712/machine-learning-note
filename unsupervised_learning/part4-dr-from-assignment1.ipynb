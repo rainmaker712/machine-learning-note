{
 "cells": [
  {
   "cell_type": "code",
   "execution_count": 19,
   "id": "fb3a429c",
   "metadata": {},
   "outputs": [],
   "source": [
    "import os\n",
    "import time\n",
    "import pandas as pd\n",
    "import numpy as np\n",
    "import matplotlib.pyplot as plt\n",
    "from IPython.display import Image\n",
    "%matplotlib inline\n",
    "import matplotlib.cm as cm\n",
    "import seaborn as sns\n",
    "sns.set_style(\"dark\")\n",
    "\n",
    "from yellowbrick.cluster import KElbowVisualizer\n",
    "from sklearn.model_selection import train_test_split\n",
    "from sklearn.metrics import roc_auc_score, accuracy_score, f1_score\n",
    "from sklearn.metrics import classification_report\n",
    "from sklearn.preprocessing import MinMaxScaler\n",
    "\n",
    "# Clustering\n",
    "from sklearn.cluster import KMeans\n",
    "from sklearn.metrics import silhouette_score\n",
    "from sklearn.mixture import GaussianMixture as EM\n",
    "\n",
    "# Dim reduction\n",
    "from sklearn.decomposition import PCA, FastICA, TruncatedSVD\n",
    "from sklearn.random_projection import SparseRandomProjection, GaussianRandomProjection\n",
    "from scipy.stats import kurtosis \n",
    "\n",
    "# Models\n",
    "from sklearn.neural_network import MLPClassifier\n",
    "from sklearn.model_selection import cross_val_score\n",
    "\n",
    "from sklearn.datasets import load_digits\n",
    "from utils import learning_curve_plotter, model_param_curve, metrics"
   ]
  },
  {
   "cell_type": "code",
   "execution_count": 53,
   "id": "def5407b",
   "metadata": {},
   "outputs": [],
   "source": [
    "seed = 777\n",
    "\n",
    "pca_k_diabet, pca_k_digit = 3, 20\n",
    "ica_k_diabet, ica_k_digit = 3, 13\n",
    "rp_k_diabet, rp_k_digit = 2, 28\n",
    "tsvd_k_diabet, tsvd_k_digit = 3, 20"
   ]
  },
  {
   "cell_type": "code",
   "execution_count": 4,
   "id": "e0aa73fe",
   "metadata": {},
   "outputs": [],
   "source": [
    "# Diabet Load Dataset\n",
    "\n",
    "diabet_path = \"./data/diabetes.csv\"\n",
    "df_diabet = pd.read_csv(diabet_path)\n",
    "\n",
    "target = 'Outcome'\n",
    "features = [ 'Pregnancies', 'Glucose', 'BloodPressure', 'SkinThickness', 'Insulin',\n",
    "       'BMI', 'DiabetesPedigreeFunction', 'Age']\n",
    "\n",
    "X_origin, y = df_diabet[features], df_diabet[target]\n",
    "\n",
    "# data normalize\n",
    "sc = MinMaxScaler()\n",
    "sc.fit(X_origin)\n",
    "\n",
    "X = sc.transform(X_origin)\n",
    "X_df = pd.DataFrame(X)\n",
    "df_diabet = pd.concat([X_df, y], axis=1)"
   ]
  },
  {
   "cell_type": "code",
   "execution_count": 50,
   "id": "35861db0",
   "metadata": {},
   "outputs": [],
   "source": [
    "def calc_score_func(X, y, nn_clf, dim=2, mode=\"None\", cv=5):\n",
    "    \n",
    "    if mode == \"mlp\":\n",
    "        X_feature = X\n",
    "    elif mode == \"pca\":\n",
    "        pca = PCA(random_state=seed, n_components=dim)\n",
    "        X_feature = pca.fit_transform(X)\n",
    "    elif mode == \"ica\":\n",
    "        ica = FastICA(random_state=seed, n_components=dim).fit(X)\n",
    "        X_feature = ica.fit_transform(X)\n",
    "    elif mode == \"rp\":\n",
    "        rp = SparseRandomProjection(random_state=seed, n_components=dim)\n",
    "        X_feature = rp.fit_transform(X)\n",
    "    elif mode == \"tsvd\":\n",
    "        tsvd = TruncatedSVD(n_components=dim, random_state=seed)\n",
    "        X_feature = tsvd.fit_transform(X)\n",
    "\n",
    "    start_time = time.time()\n",
    "    score = cross_val_score(nn_clf, X_feature, y, scoring=\"accuracy\", cv=cv).mean()\n",
    "    train_time = time.time() - start_time\n",
    "    \n",
    "    return (score, train_time)\n",
    "\n",
    "# best parameter tester\n",
    "best_nn_clf = MLPClassifier(\n",
    "    random_state=seed,\n",
    "    hidden_layer_sizes=30,\n",
    "    learning_rate_init=0.001,\n",
    "    max_iter=1000,\n",
    "    activation=\"tanh\"\n",
    ")"
   ]
  },
  {
   "cell_type": "markdown",
   "id": "d51c2099",
   "metadata": {},
   "source": [
    "## From dataset1 perform & time\n",
    "\n",
    "- pca\n",
    "- ica\n",
    "- rp\n",
    "- tsvd"
   ]
  },
  {
   "cell_type": "code",
   "execution_count": 51,
   "id": "e4be2a4c",
   "metadata": {},
   "outputs": [],
   "source": [
    "diabet_mlp_score = calc_score_func(X, y, best_nn_clf, mode=\"mlp\")\n",
    "diabet_pca_score = calc_score_func(X, y, best_nn_clf, dim=3, mode=\"pca\")\n",
    "diabet_ica_score = calc_score_func(X, y, best_nn_clf, dim=6, mode=\"ica\")\n",
    "diabet_rp_score = calc_score_func(X, y, best_nn_clf, dim=2, mode=\"rp\")\n",
    "diabet_rp_score = calc_score_func(X, y, best_nn_clf, dim=2, mode=\"tsvd\")"
   ]
  },
  {
   "cell_type": "code",
   "execution_count": 52,
   "id": "0d3e5ca2",
   "metadata": {},
   "outputs": [
    {
     "name": "stdout",
     "output_type": "stream",
     "text": [
      "(0.7682964094728801, 2.4009900093078613) (0.7409727527374586, 0.9829261302947998) (0.7643663526016468, 2.1252710819244385) (0.7278923690688397, 2.1652920246124268)\n"
     ]
    }
   ],
   "source": [
    "print(diabet_mlp_score, diabet_pca_score, diabet_ica_score, diabet_rp_score)"
   ]
  },
  {
   "cell_type": "code",
   "execution_count": null,
   "id": "d3872d09",
   "metadata": {},
   "outputs": [],
   "source": []
  }
 ],
 "metadata": {
  "kernelspec": {
   "display_name": "Python 3 (ipykernel)",
   "language": "python",
   "name": "python3"
  },
  "language_info": {
   "codemirror_mode": {
    "name": "ipython",
    "version": 3
   },
   "file_extension": ".py",
   "mimetype": "text/x-python",
   "name": "python",
   "nbconvert_exporter": "python",
   "pygments_lexer": "ipython3",
   "version": "3.10.0"
  }
 },
 "nbformat": 4,
 "nbformat_minor": 5
}
