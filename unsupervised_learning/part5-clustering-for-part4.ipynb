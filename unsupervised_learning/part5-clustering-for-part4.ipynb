{
 "cells": [
  {
   "cell_type": "code",
   "execution_count": 37,
   "id": "fb3a429c",
   "metadata": {},
   "outputs": [],
   "source": [
    "import os\n",
    "import time\n",
    "import pandas as pd\n",
    "import numpy as np\n",
    "import matplotlib.pyplot as plt\n",
    "from IPython.display import Image\n",
    "%matplotlib inline\n",
    "import matplotlib.cm as cm\n",
    "import seaborn as sns\n",
    "sns.set_style(\"dark\")\n",
    "\n",
    "from yellowbrick.cluster import KElbowVisualizer\n",
    "from sklearn.model_selection import train_test_split\n",
    "from sklearn.metrics import roc_auc_score, accuracy_score, f1_score\n",
    "from sklearn.metrics import classification_report\n",
    "from sklearn.preprocessing import MinMaxScaler\n",
    "\n",
    "# Clustering\n",
    "from sklearn.cluster import KMeans\n",
    "from sklearn.metrics import silhouette_score\n",
    "from sklearn.mixture import GaussianMixture as EM\n",
    "\n",
    "# Dim reduction\n",
    "from sklearn.decomposition import PCA, FastICA, TruncatedSVD\n",
    "from sklearn.random_projection import SparseRandomProjection, GaussianRandomProjection\n",
    "from scipy.stats import kurtosis \n",
    "\n",
    "# Models\n",
    "from sklearn.neural_network import MLPClassifier\n",
    "from sklearn.model_selection import cross_val_score\n",
    "\n",
    "from sklearn.datasets import load_digits\n",
    "from utils import learning_curve_plotter, model_param_curve, metrics"
   ]
  },
  {
   "cell_type": "code",
   "execution_count": 38,
   "id": "def5407b",
   "metadata": {},
   "outputs": [],
   "source": [
    "seed = 777\n",
    "\n",
    "pca_k_diabet, pca_k_digit = 3, 20\n",
    "ica_k_diabet, ica_k_digit = 3, 13\n",
    "rp_k_diabet, rp_k_digit = 2, 28\n",
    "tsvd_k_diabet, tsvd_k_digit = 3, 20"
   ]
  },
  {
   "cell_type": "code",
   "execution_count": 39,
   "id": "e0aa73fe",
   "metadata": {},
   "outputs": [],
   "source": [
    "# Diabet Load Dataset\n",
    "\n",
    "diabet_path = \"./data/diabetes.csv\"\n",
    "df_diabet = pd.read_csv(diabet_path)\n",
    "\n",
    "target = 'Outcome'\n",
    "features = [ 'Pregnancies', 'Glucose', 'BloodPressure', 'SkinThickness', 'Insulin',\n",
    "       'BMI', 'DiabetesPedigreeFunction', 'Age']\n",
    "\n",
    "X_origin, y = df_diabet[features], df_diabet[target]\n",
    "\n",
    "# data normalize\n",
    "sc = MinMaxScaler()\n",
    "sc.fit(X_origin)\n",
    "\n",
    "X = sc.transform(X_origin)\n",
    "X_df = pd.DataFrame(X)\n",
    "df_diabet = pd.concat([X_df, y], axis=1)"
   ]
  },
  {
   "cell_type": "code",
   "execution_count": 40,
   "id": "f719f5a8",
   "metadata": {},
   "outputs": [],
   "source": [
    "def calc_score_func(X, y, nn_clf, dim=2, mode=\"None\", cv=5):\n",
    "    \n",
    "    if mode == \"mlp\":\n",
    "        X_feature = X\n",
    "    elif mode == \"pca\":\n",
    "        pca = PCA(random_state=seed, n_components=dim)\n",
    "        X_feature = pca.fit_transform(X)\n",
    "    elif mode == \"ica\":\n",
    "        ica = FastICA(random_state=seed, n_components=dim).fit(X)\n",
    "        X_feature = ica.fit_transform(X)\n",
    "    elif mode == \"rp\":\n",
    "        rp = SparseRandomProjection(random_state=seed, n_components=dim)\n",
    "        X_feature = rp.fit_transform(X)\n",
    "    elif mode == \"tsvd\":\n",
    "        tsvd = TruncatedSVD(n_components=dim, random_state=seed)\n",
    "        X_feature = tsvd.fit_transform(X)\n",
    "\n",
    "    start_time = time.time()\n",
    "    score = cross_val_score(nn_clf, X_feature, y, scoring=\"accuracy\", cv=cv).mean()\n",
    "    train_time = time.time() - start_time\n",
    "    \n",
    "    return (score, train_time)\n",
    "\n",
    "# best parameter tester\n",
    "best_nn_clf = MLPClassifier(\n",
    "    random_state=seed,\n",
    "    hidden_layer_sizes=30,\n",
    "    learning_rate_init=0.001,\n",
    "    max_iter=1000,\n",
    "    activation=\"tanh\"\n",
    ")"
   ]
  },
  {
   "cell_type": "markdown",
   "id": "d51c2099",
   "metadata": {},
   "source": [
    "## From dataset1 perform & time\n",
    "\n",
    "- kmeans & em + MLP\n",
    "- pca"
   ]
  },
  {
   "cell_type": "code",
   "execution_count": 41,
   "id": "e4be2a4c",
   "metadata": {
    "scrolled": true
   },
   "outputs": [
    {
     "name": "stdout",
     "output_type": "stream",
     "text": [
      "Cluster Time: 0.03479290008544922\n"
     ]
    }
   ],
   "source": [
    "start_time = time.time()\n",
    "kmeans = KMeans(2).fit(X)\n",
    "train_time = time.time() - start_time\n",
    "print(f\"Cluster Time: {train_time}\")"
   ]
  },
  {
   "cell_type": "code",
   "execution_count": 42,
   "id": "0e1b0e9d",
   "metadata": {},
   "outputs": [],
   "source": [
    "y_cluster = kmeans.predict(X)"
   ]
  },
  {
   "cell_type": "code",
   "execution_count": 43,
   "id": "73b9063e",
   "metadata": {},
   "outputs": [
    {
     "data": {
      "text/plain": [
       "(768, 8)"
      ]
     },
     "execution_count": 43,
     "metadata": {},
     "output_type": "execute_result"
    }
   ],
   "source": [
    "X.shape\n",
    "# y_cluster.shape"
   ]
  },
  {
   "cell_type": "code",
   "execution_count": 47,
   "id": "04a9bc13",
   "metadata": {},
   "outputs": [],
   "source": [
    "def calc_score_func(X, y, dim=2, model=None, nn_clf=best_nn_clf, cv=5):\n",
    "\n",
    "    start_time = time.time()\n",
    "\n",
    "    cluster = model(2).fit(X)\n",
    "    y_cluster = cluster.predict(X)\n",
    "    X_cluster_features = np.c_[X,y_cluster]\n",
    "\n",
    "    score = cross_val_score(nn_clf, X_cluster_features, y, scoring=\"accuracy\", cv=cv).mean()\n",
    "    train_time = time.time() - start_time\n",
    "    \n",
    "    return (score, train_time)"
   ]
  },
  {
   "cell_type": "code",
   "execution_count": 45,
   "id": "6be0147a",
   "metadata": {},
   "outputs": [
    {
     "data": {
      "text/plain": [
       "(0.7656905186316951, 2.9945151805877686)"
      ]
     },
     "execution_count": 45,
     "metadata": {},
     "output_type": "execute_result"
    }
   ],
   "source": [
    "calc_score_func(X, y, dim=2, model=KMeans)"
   ]
  },
  {
   "cell_type": "code",
   "execution_count": 46,
   "id": "ee6f2eb8",
   "metadata": {},
   "outputs": [
    {
     "data": {
      "text/plain": [
       "(0.7630846277905101, 2.9043776988983154)"
      ]
     },
     "execution_count": 46,
     "metadata": {},
     "output_type": "execute_result"
    }
   ],
   "source": [
    "calc_score_func(X, y, dim=2, model=EM)"
   ]
  }
 ],
 "metadata": {
  "kernelspec": {
   "display_name": "Python 3 (ipykernel)",
   "language": "python",
   "name": "python3"
  },
  "language_info": {
   "codemirror_mode": {
    "name": "ipython",
    "version": 3
   },
   "file_extension": ".py",
   "mimetype": "text/x-python",
   "name": "python",
   "nbconvert_exporter": "python",
   "pygments_lexer": "ipython3",
   "version": "3.10.0"
  }
 },
 "nbformat": 4,
 "nbformat_minor": 5
}
